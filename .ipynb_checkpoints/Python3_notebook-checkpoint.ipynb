{
 "cells": [
  {
   "cell_type": "markdown",
   "metadata": {},
   "source": [
    "<a href=\"https://colab.research.google.com/github/diveintocode-corp/python3_technician_certification_exam_trial_text/blob/master/Python3_notebook.ipynb\" target=\"_parent\" ><img src=\"https://colab.research.google.com/assets/colab-badge.svg\" alt=\"Open In Colab\"/></a>"
   ]
  },
  {
   "cell_type": "markdown",
   "metadata": {
    "colab_type": "text",
    "id": "28S76DVlfCMZ"
   },
   "source": [
    "# Python３エンジニア認定基礎試験講座\n",
    "\n",
    "###（体験クラス用 **60分**）"
   ]
  },
  {
   "cell_type": "markdown",
   "metadata": {},
   "source": [
    "<a href=\"https://diveintocode.gyazo.com/66f2247b0315f8004cd576d4076f4b57\"><img src=\"https://t.gyazo.com/teams/diveintocode/66f2247b0315f8004cd576d4076f4b57.png\" alt=\"Image from Gyazo\" width=\"1554\"/></a>"
   ]
  },
  {
   "cell_type": "markdown",
   "metadata": {},
   "source": [
    "## 1. **DIVE INTO EXAM** の問題を**５問**解きましょう（制限時間１分 × ５問）"
   ]
  },
  {
   "cell_type": "markdown",
   "metadata": {
    "colab_type": "text",
    "id": "ar2HoyV1-SYY"
   },
   "source": [
    "まず今回習う範囲の問題を５問解いて採点してもらいます。"
   ]
  },
  {
   "cell_type": "markdown",
   "metadata": {
    "colab_type": "text",
    "id": "aapEiFEAlrR7"
   },
   "source": [
    "<a href=\"https://diveintocode.gyazo.com/29f34011902e574bdc47266dccac678c\"><img src=\"https://t.gyazo.com/teams/diveintocode/29f34011902e574bdc47266dccac678c.png\" alt=\"Image from Gyazo\" width=\"300\"/></a>"
   ]
  },
  {
   "cell_type": "markdown",
   "metadata": {},
   "source": [
    "まったく前提知識がないということを想定していますので、気負いなく取り組んでください！\n",
    "0点になることも普通にあり得るので、点数はまったく気にしないでください。\n",
    "講座の最後にもう一度同じ問題を解いてもらいますので、現在と約50分後で、どのように見え方が変わったのかを体験してもらうことを目的としています。\n",
    "\n",
    "以下のリンクから受験ページへアクセスしてください。\n",
    "\n",
    "https://exam.diveintocode.jp/exam/exam_categories/19/result_lists"
   ]
  },
  {
   "cell_type": "markdown",
   "metadata": {
    "colab_type": "text",
    "id": "VlI10NN3rLxg"
   },
   "source": [
    "### 「やってみる」お疲れさまでした！！\n",
    "\n",
    "---"
   ]
  },
  {
   "cell_type": "code",
   "execution_count": null,
   "metadata": {
    "colab": {},
    "colab_type": "code",
    "id": "UXMDSQxM0kTi"
   },
   "outputs": [],
   "source": []
  },
  {
   "cell_type": "code",
   "execution_count": null,
   "metadata": {
    "colab": {},
    "colab_type": "code",
    "id": "NKfiwYF50kMX"
   },
   "outputs": [],
   "source": []
  },
  {
   "cell_type": "code",
   "execution_count": null,
   "metadata": {
    "colab": {},
    "colab_type": "code",
    "id": "skDqZRvD0uB5"
   },
   "outputs": [],
   "source": []
  },
  {
   "cell_type": "markdown",
   "metadata": {
    "colab_type": "text",
    "id": "idqvyUcXrVZr"
   },
   "source": [
    "ここで、みなさんがこれから利用するColaboratoryというサービスについて説明します。"
   ]
  },
  {
   "cell_type": "markdown",
   "metadata": {
    "colab_type": "text",
    "id": "w3QAKLN4un07"
   },
   "source": [
    "<p><img alt=\"Colaboratory logo\" height=\"45px\" src=\"/img/colab_favicon.ico\" align=\"left\" hspace=\"10px\" vspace=\"0px\"></p>\n",
    "\n",
    "<h1>Colaboratory とは</h1>\n",
    "\n",
    "Colaboratory（略称: Colab）とは、ブラウザから Python を記述し実行できる環境のことを指します。\n",
    "\n",
    "Colab は、<strong>学生</strong>、<strong>データ サイエンティスト</strong>、<strong>AI リサーチャー</strong>の作業を効率化するツールです。詳しくは、<a href=\"https://www.youtube.com/watch?v=inN8seMm7UI\">Colab のご紹介</a>をご覧ください。"
   ]
  },
  {
   "cell_type": "markdown",
   "metadata": {
    "colab_type": "text",
    "id": "pd9RamwRuoOf"
   },
   "source": [
    "### <strong>このページは何？</strong>\n",
    "\n",
    "このページは、静的なウェブページではなく、<strong>Colab ノートブック</strong>という、コードを実行するための環境です。\n",
    "\n",
    "たとえば次の<strong>コードセル</strong>に値を入力して実行することができます。実行後は結果の出力が表示されます。"
   ]
  },
  {
   "cell_type": "code",
   "execution_count": null,
   "metadata": {
    "colab": {},
    "colab_type": "code",
    "id": "_slDiKVFqdS3"
   },
   "outputs": [],
   "source": []
  },
  {
   "cell_type": "code",
   "execution_count": null,
   "metadata": {},
   "outputs": [],
   "source": []
  },
  {
   "cell_type": "markdown",
   "metadata": {},
   "source": [
    "## ２. 動画を視聴しましょう（制限時間15分）\n",
    "\n",
    "自分のパソコン端末で動画を視聴してもらいます。"
   ]
  },
  {
   "cell_type": "markdown",
   "metadata": {
    "colab_type": "text",
    "id": "jdASAVd0n8Rt"
   },
   "source": [
    "<a href=\"https://diveintocode.gyazo.com/206de1c02bf20040f9ba9179b2a70202\"><img src=\"https://t.gyazo.com/teams/diveintocode/206de1c02bf20040f9ba9179b2a70202.png\" alt=\"Image from Gyazo\" width=\"300\"/></a>"
   ]
  },
  {
   "cell_type": "markdown",
   "metadata": {
    "colab_type": "text",
    "id": "V5I6ngqcLjcb"
   },
   "source": [
    "今回の動画で取り扱う内容は、\n",
    "\n",
    "- 数値\n",
    "- 文字列\n",
    "\n",
    "です。\n",
    "\n",
    "#### ★動画のノートブック★\n",
    "\n",
    "動画で使用されるノートブックは下記のリンク先に保存されています。\n",
    "「Open in Colab」ボタンを押して、さらに「Driveにコピー」して自分のGoogleドライブへ保存しましょう。\n",
    "\n",
    "[数値のノートブック](https://github.com/diveintocode-corp/python3_technician_certification_exam_trial_text/blob/master/number.ipynb)\n",
    "\n",
    "[文字列のノートブック](https://github.com/diveintocode-corp/python3_technician_certification_exam_trial_text/blob/master/string.ipynb)\n",
    "\n",
    "\n",
    "ブラウザのタブがたくさん開く必要があると思うので、迷子にならないようにご注意ください!"
   ]
  },
  {
   "cell_type": "markdown",
   "metadata": {},
   "source": [
    "#### ★動画★\n",
    "\n",
    "以下の動画を再生し、各自で動画をご視聴ください。\n",
    "\n",
    "<font color=\"Crimson\">**興味、関心を持った箇所を次の時間に話し合うので、その箇所だけメモしておいてください。理由も合わせてお願いします。**</font>"
   ]
  },
  {
   "cell_type": "code",
   "execution_count": 3,
   "metadata": {},
   "outputs": [
    {
     "data": {
      "text/html": [
       "<iframe src=https://www.useloom.com/embed/5d4c295bfbf844858360c65685146d12 width=1024 height=700 allowfullscreen></iframe>"
      ],
      "text/plain": [
       "<IPython.core.display.HTML object>"
      ]
     },
     "execution_count": 3,
     "metadata": {},
     "output_type": "execute_result"
    }
   ],
   "source": [
    "import IPython\n",
    "\n",
    "url = 'https://www.useloom.com/embed/5d4c295bfbf844858360c65685146d12'\n",
    "iframe = '<iframe src=' + url + ' width=1024 height=700 allowfullscreen></iframe>'\n",
    "IPython.display.HTML(iframe)"
   ]
  },
  {
   "cell_type": "code",
   "execution_count": 6,
   "metadata": {},
   "outputs": [
    {
     "data": {
      "text/html": [
       "<iframe src=https://www.useloom.com/embed/17451f5a611c48ee8dcdedc49d9eed3a width=1024 height=700 allowfullscreen></iframe>"
      ],
      "text/plain": [
       "<IPython.core.display.HTML object>"
      ]
     },
     "execution_count": 6,
     "metadata": {},
     "output_type": "execute_result"
    }
   ],
   "source": [
    "import IPython\n",
    "\n",
    "url = 'https://www.useloom.com/embed/17451f5a611c48ee8dcdedc49d9eed3a'\n",
    "iframe = '<iframe src=' + url + ' width=1024 height=700 allowfullscreen></iframe>'\n",
    "IPython.display.HTML(iframe)\n"
   ]
  },
  {
   "cell_type": "markdown",
   "metadata": {
    "colab_type": "text",
    "id": "Yv3YTefpthti"
   },
   "source": [
    "---"
   ]
  },
  {
   "cell_type": "markdown",
   "metadata": {
    "colab_type": "text",
    "id": "KJErXpv0070H"
   },
   "source": [
    "### 「見る聞く」お疲れさまでした！！\n",
    "\n",
    "---"
   ]
  },
  {
   "cell_type": "code",
   "execution_count": null,
   "metadata": {
    "colab": {},
    "colab_type": "code",
    "id": "oKTZPDFe09oE"
   },
   "outputs": [],
   "source": []
  },
  {
   "cell_type": "code",
   "execution_count": null,
   "metadata": {
    "colab": {},
    "colab_type": "code",
    "id": "Yxn9RiNQ09kb"
   },
   "outputs": [],
   "source": []
  },
  {
   "cell_type": "code",
   "execution_count": null,
   "metadata": {
    "colab": {},
    "colab_type": "code",
    "id": "UBWlCUF309Vz"
   },
   "outputs": [],
   "source": []
  },
  {
   "cell_type": "markdown",
   "metadata": {
    "colab": {},
    "colab_type": "code",
    "id": "nPbuAvxy09RV"
   },
   "source": [
    "## ３. ペアになって動画について話してみよう（制限時間5分）\n",
    "\n",
    "動画に登場したノートブックを使って、興味・関心を持った箇所をペアの人に説明してもらいます。"
   ]
  },
  {
   "cell_type": "markdown",
   "metadata": {},
   "source": [
    "<a href=\"https://diveintocode.gyazo.com/a188fff44eeee1f4367e2436cd356018\"><img src=\"https://t.gyazo.com/teams/diveintocode/a188fff44eeee1f4367e2436cd356018.png\" alt=\"Image from Gyazo\" width=\"300\"/></a>"
   ]
  },
  {
   "cell_type": "markdown",
   "metadata": {
    "colab_type": "text",
    "id": "uxFsWppYuKLu"
   },
   "source": [
    "これから<span style=\"color: #d61b09\">**ペア**</span>になっていただき、ブレイクアウトルームに入ってもらいます。<span style=\"color: #d61b09\">**どちらか一方の方がノートブックを画面共有**</span>してください。ノートブックを見ながら、お互いに関心のあった箇所と、そこに関心を抱いた理由を教えてください。\n",
    "\n",
    "５分後、話をした結果、気になった<span style=\"color: #d61b09\">**疑問を１つ選んで**</span>メモしてください。<span style=\"color: #d61b09\">**その疑問をメインルームへ戻った際にチャットへ投稿してください**</span>。\n",
    "時間の限り、スタッフがその疑問に対してコメントいたします。"
   ]
  },
  {
   "cell_type": "markdown",
   "metadata": {},
   "source": [
    "[Zoomの画面共有の仕方](https://blog.coubic.com/onlinelesson/zoom-screen-sharing/)"
   ]
  },
  {
   "cell_type": "markdown",
   "metadata": {
    "colab_type": "text",
    "id": "mEEcyYLK1Nce"
   },
   "source": [
    "### 「話してみる」お疲れさまでした！！（^0^）\n",
    "\n",
    "---"
   ]
  },
  {
   "cell_type": "code",
   "execution_count": null,
   "metadata": {
    "colab": {},
    "colab_type": "code",
    "id": "B347hh5r1LdO"
   },
   "outputs": [],
   "source": []
  },
  {
   "cell_type": "code",
   "execution_count": null,
   "metadata": {
    "colab": {},
    "colab_type": "code",
    "id": "Gy24HWdS1LW_"
   },
   "outputs": [],
   "source": []
  },
  {
   "cell_type": "code",
   "execution_count": null,
   "metadata": {
    "colab": {},
    "colab_type": "code",
    "id": "P3OZE9rD1LR3"
   },
   "outputs": [],
   "source": []
  },
  {
   "cell_type": "markdown",
   "metadata": {
    "colab_type": "text",
    "id": "AZIst8YJvIkg"
   },
   "source": [
    "## ４. 読んだり書いたりしよう（制限時間10分）\n",
    "\n",
    "興味・関心をもった箇所を、**Python3エンジニア認定基礎試験**の 推奨図書である「Pythonチュートリアル」で確認したり、コードを書いて実行してみてください。\n",
    "\n",
    "その後、ノートブックの下部にある**設問**を解いてみましょう。\n"
   ]
  },
  {
   "cell_type": "markdown",
   "metadata": {
    "colab_type": "text",
    "id": "Lbbszu5pv0Gm"
   },
   "source": [
    "<a href=\"https://diveintocode.gyazo.com/408a9eb5121f66eaefd2a7879ff1c611\"><img src=\"https://t.gyazo.com/teams/diveintocode/408a9eb5121f66eaefd2a7879ff1c611.png\" alt=\"Image from Gyazo\" width=\"300\"/></a>"
   ]
  },
  {
   "cell_type": "markdown",
   "metadata": {
    "colab_type": "text",
    "id": "JbnpXkGB1inO"
   },
   "source": [
    "\n",
    "\n",
    "\n",
    "\n",
    "<a href=\"https://diveintocode.gyazo.com/74b90899106e751c12a1e391e7114860\"><img src=\"https://t.gyazo.com/teams/diveintocode/74b90899106e751c12a1e391e7114860.png\" alt=\"Image from Gyazo\" width=\"300\"/></a>"
   ]
  },
  {
   "cell_type": "markdown",
   "metadata": {},
   "source": [
    "#### ★Python公式サイトのチュートリアル★\n",
    "\n",
    "今回の範囲の内容は、以下のリンク先のページに記載されています。\n",
    "\n",
    "[数](https://docs.python.org/ja/3.5/tutorial/introduction.html#numbers)\n",
    "\n",
    "[文字列型](https://docs.python.org/ja/3.5/tutorial/introduction.html#strings)"
   ]
  },
  {
   "cell_type": "code",
   "execution_count": null,
   "metadata": {},
   "outputs": [],
   "source": []
  },
  {
   "cell_type": "markdown",
   "metadata": {},
   "source": [
    "今回の「数値」や「文字列」の範囲が早く終わった方は、「リスト」のノートブックと動画（5分程度）も用意していますので、\n",
    "以下からアクセスしてご覧になってください。\n",
    "\n",
    "[リストのノートブック](https://github.com/diveintocode-corp/python3_technician_certification_exam_trial_text/blob/master/list.ipynb)\n",
    "\n",
    "[リスト編動画](https://www.loom.com/share/c0b7074b80fc465a83a5de7646b1b0f2)"
   ]
  },
  {
   "cell_type": "markdown",
   "metadata": {
    "colab_type": "text",
    "id": "Hc4VTvJeHaEe"
   },
   "source": [
    "### 「読む書く」お疲れさまでした！！ （^▽^）\n",
    "\n",
    "---"
   ]
  },
  {
   "cell_type": "code",
   "execution_count": null,
   "metadata": {
    "colab": {},
    "colab_type": "code",
    "id": "uvFTFIjjHQZU"
   },
   "outputs": [],
   "source": []
  },
  {
   "cell_type": "code",
   "execution_count": null,
   "metadata": {
    "colab": {},
    "colab_type": "code",
    "id": "3rUCIr-RHQSW"
   },
   "outputs": [],
   "source": []
  },
  {
   "cell_type": "markdown",
   "metadata": {
    "colab": {},
    "colab_type": "code",
    "id": "e82r-7s8HP3H"
   },
   "source": [
    "## ５. **DIVE INTO EXAM** の問題を**５問**解きましょう（制限時間１分 × ５問）\n",
    "\n",
    "最後に今回学習した範囲の問題を５問解いて採点してもらいます。"
   ]
  },
  {
   "cell_type": "markdown",
   "metadata": {
    "colab_type": "text",
    "id": "gCDKUfCwxH3y"
   },
   "source": [
    "<a href=\"https://diveintocode.gyazo.com/29f34011902e574bdc47266dccac678c\"><img src=\"https://t.gyazo.com/teams/diveintocode/29f34011902e574bdc47266dccac678c.png\" alt=\"Image from Gyazo\" width=\"300\"/></a>"
   ]
  },
  {
   "cell_type": "markdown",
   "metadata": {
    "colab_type": "text",
    "id": "fB1LGkaaw6W7"
   },
   "source": [
    "以下のリンクから受験ページへアクセスしてください。\n",
    "\n",
    "https://exam.diveintocode.jp/exam/exam_categories/19/result_lists\n",
    "\n",
    "---"
   ]
  },
  {
   "cell_type": "markdown",
   "metadata": {
    "colab_type": "text",
    "id": "Z1n1ni_WzJzA"
   },
   "source": [
    "### 講座の受講お疲れさまでした！！"
   ]
  },
  {
   "cell_type": "code",
   "execution_count": null,
   "metadata": {
    "colab": {},
    "colab_type": "code",
    "id": "6yr5m3a85HTO"
   },
   "outputs": [],
   "source": []
  },
  {
   "cell_type": "code",
   "execution_count": null,
   "metadata": {},
   "outputs": [],
   "source": []
  }
 ],
 "metadata": {
  "accelerator": "GPU",
  "colab": {
   "collapsed_sections": [],
   "name": "Python3notebook（8/7）",
   "provenance": []
  },
  "kernelspec": {
   "display_name": "Python 3",
   "language": "python",
   "name": "python3"
  },
  "language_info": {
   "codemirror_mode": {
    "name": "ipython",
    "version": 3
   },
   "file_extension": ".py",
   "mimetype": "text/x-python",
   "name": "python",
   "nbconvert_exporter": "python",
   "pygments_lexer": "ipython3",
   "version": "3.7.3"
  },
  "latex_envs": {
   "LaTeX_envs_menu_present": true,
   "autoclose": false,
   "autocomplete": true,
   "bibliofile": "biblio.bib",
   "cite_by": "apalike",
   "current_citInitial": 1,
   "eqLabelWithNumbers": true,
   "eqNumInitial": 1,
   "hotkeys": {
    "equation": "Ctrl-E",
    "itemize": "Ctrl-I"
   },
   "labels_anchors": false,
   "latex_user_defs": false,
   "report_style_numbering": false,
   "user_envs_cfg": false
  },
  "toc": {
   "base_numbering": 1,
   "nav_menu": {},
   "number_sections": true,
   "sideBar": true,
   "skip_h1_title": false,
   "title_cell": "Table of Contents",
   "title_sidebar": "Contents",
   "toc_cell": false,
   "toc_position": {},
   "toc_section_display": true,
   "toc_window_display": false
  }
 },
 "nbformat": 4,
 "nbformat_minor": 1
}
